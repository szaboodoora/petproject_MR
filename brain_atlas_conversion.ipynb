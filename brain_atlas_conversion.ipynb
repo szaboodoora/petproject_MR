{
 "cells": [
  {
   "cell_type": "code",
   "execution_count": 1,
   "metadata": {},
   "outputs": [],
   "source": [
    "import numpy as np\n",
    "import math \n",
    "\"\"\"This script works based on the logic of spm transformation matrix (1.translation 2.rotation 3.zoom)\"\"\""
   ]
  },
  {
   "cell_type": "code",
   "execution_count": 2,
   "metadata": {},
   "outputs": [],
   "source": [
    "# this part contains the input values for the translation matrix between two reference spaces\n",
    "# probably inverse could be calculated as they should be invertible so one set of value / coordinate pair should be enough but you need to use different values\n",
    "# e.g. between system A and B\n",
    "\n",
    "# translation given in number of voxels\n",
    "deltax=1\n",
    "deltay=1\n",
    "deltaz=1\n",
    "\n",
    "#Rotation in radian\n",
    "pitch=0.3\n",
    "roll=0.1\n",
    "yaw=0.4\n",
    "\n",
    "# zoom/scaling factor\n",
    "resize_x=1\n",
    "resize_y=0.87\n",
    "resize_z=1.2"
   ]
  },
  {
   "cell_type": "code",
   "execution_count": null,
   "metadata": {},
   "outputs": [],
   "source": [
    "# Input of start coordinates\n",
    "x=2\n",
    "y=2\n",
    "z=2"
   ]
  },
  {
   "cell_type": "code",
   "execution_count": 3,
   "metadata": {},
   "outputs": [],
   "source": [
    "start_coordinate=np.array([x,y, z, 1])\n",
    "# translation\n",
    "\n",
    "tranlation_matrix=np.array([[1,0,0,0],\n",
    "                           [0,1,0,0],\n",
    "                           [0,0,1,0],\n",
    "                           [deltax,deltay, deltaz, 1]])\n",
    "M2=start_coordinate.dot(tranlation_matrix) "
   ]
  },
  {
   "cell_type": "code",
   "execution_count": 4,
   "metadata": {},
   "outputs": [],
   "source": [
    "#Rotation in radian\n",
    "\n",
    "pitch_matrix=np.array([[-(math.sin(pitch)),math.cos(pitch),0,0],\n",
    "                           [0,0,1,0],\n",
    "                           [math.cos(pitch),math.sin(pitch),0,0],\n",
    "                           [0,0, 0, 1]])\n",
    "M3=M2.dot(pitch_matrix) \n",
    "\n",
    "roll_matrix=np.array([[0,0,1,0],\n",
    "                     [math.cos(roll),math.sin(roll),0,0],\n",
    "                     [-(math.sin(roll)),math.cos(roll),0,0],\n",
    "                     [0,0, 0, 1]])\n",
    "M4=M3.dot(roll_matrix) \n",
    "\n",
    "yaw_matrix=np.array( [[math.cos(yaw),math.sin(yaw),0,0],\n",
    "                     [-(math.sin(yaw)),math.cos(yaw),0,0],\n",
    "                    [0,0,1,0],\n",
    "                     [0,0, 0, 1]])\n",
    "M5=M4.dot(yaw_matrix) "
   ]
  },
  {
   "cell_type": "code",
   "execution_count": 5,
   "metadata": {},
   "outputs": [
    {
     "name": "stdout",
     "output_type": "stream",
     "text": [
      "[1.85491346 3.85568829 2.37533862 1.        ]\n"
     ]
    }
   ],
   "source": [
    "# zoom/scaling\n",
    "\n",
    "resize_matrix=np.array([[resize_x,0,0,0],\n",
    "                           [0,resize_y,0,0],\n",
    "                           [0,0,resize_z,0],\n",
    "                           [0,0, 0, 1]])\n",
    "\n",
    "M6=M5.dot(resize_matrix) "
   ]
  },
  {
   "cell_type": "code",
   "execution_count": 6,
   "metadata": {},
   "outputs": [
    {
     "name": "stdout",
     "output_type": "stream",
     "text": [
      "output coordinates \n",
      "x:1.8549134551266944\n",
      "y:3.8556882902300753\n",
      "z:2.375338616871359\n"
     ]
    }
   ],
   "source": [
    "print('output coordinates \\nx:'+ str(M6[0]))\n",
    "print('y:'+ str(M6[1]))\n",
    "print('z:'+ str(M6[2]))"
   ]
  },
  {
   "cell_type": "code",
   "execution_count": 7,
   "metadata": {},
   "outputs": [
    {
     "name": "stdout",
     "output_type": "stream",
     "text": [
      "output coordinates \n",
      "x:2\n",
      "y:4\n",
      "z:2\n"
     ]
    }
   ],
   "source": [
    "# if you want to round them to integer\n",
    "print('output coordinates \\nx:'+ str(np.rint(M6[0]).astype('int')))\n",
    "print('y:'+ str(np.rint(M6[1]).astype('int')))\n",
    "print('z:'+ str(np.rint(M6[2]).astype('int')))"
   ]
  },
  {
   "cell_type": "code",
   "execution_count": null,
   "metadata": {},
   "outputs": [],
   "source": []
  }
 ],
 "metadata": {
  "kernelspec": {
   "display_name": "Python 3",
   "language": "python",
   "name": "python3"
  },
  "language_info": {
   "codemirror_mode": {
    "name": "ipython",
    "version": 3
   },
   "file_extension": ".py",
   "mimetype": "text/x-python",
   "name": "python",
   "nbconvert_exporter": "python",
   "pygments_lexer": "ipython3",
   "version": "3.7.6"
  }
 },
 "nbformat": 4,
 "nbformat_minor": 4
}
