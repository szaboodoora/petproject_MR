{
 "cells": [
  {
   "cell_type": "code",
   "execution_count": 1,
   "metadata": {},
   "outputs": [],
   "source": [
    "import pandas as pd\n",
    "import numpy as np\n",
    "import matplotlib.pyplot as plt\n",
    "%matplotlib inline\n",
    "import re\n",
    "import nltk\n",
    "import os\n"
   ]
  },
  {
   "cell_type": "code",
   "execution_count": 2,
   "metadata": {},
   "outputs": [
    {
     "data": {
      "text/html": [
       "<div>\n",
       "<style scoped>\n",
       "    .dataframe tbody tr th:only-of-type {\n",
       "        vertical-align: middle;\n",
       "    }\n",
       "\n",
       "    .dataframe tbody tr th {\n",
       "        vertical-align: top;\n",
       "    }\n",
       "\n",
       "    .dataframe thead th {\n",
       "        text-align: right;\n",
       "    }\n",
       "</style>\n",
       "<table border=\"1\" class=\"dataframe\">\n",
       "  <thead>\n",
       "    <tr style=\"text-align: right;\">\n",
       "      <th></th>\n",
       "      <th>Label Id</th>\n",
       "      <th>Label Name</th>\n",
       "    </tr>\n",
       "  </thead>\n",
       "  <tbody>\n",
       "    <tr>\n",
       "      <th>0</th>\n",
       "      <td>0</td>\n",
       "      <td>clear label</td>\n",
       "    </tr>\n",
       "    <tr>\n",
       "      <th>1</th>\n",
       "      <td>1</td>\n",
       "      <td>98 voxels covering 83% of D.G compositus rostr...</td>\n",
       "    </tr>\n",
       "    <tr>\n",
       "      <th>2</th>\n",
       "      <td>2</td>\n",
       "      <td>95 voxels covering 14% of D.encephalon encephalon</td>\n",
       "    </tr>\n",
       "    <tr>\n",
       "      <th>3</th>\n",
       "      <td>3</td>\n",
       "      <td>74 voxels covering 45% of D.G proreus L</td>\n",
       "    </tr>\n",
       "    <tr>\n",
       "      <th>4</th>\n",
       "      <td>4</td>\n",
       "      <td>63 voxels covering 53% of D.G suprasylvius ros...</td>\n",
       "    </tr>\n",
       "  </tbody>\n",
       "</table>\n",
       "</div>"
      ],
      "text/plain": [
       "   Label Id                                         Label Name\n",
       "0         0                                        clear label\n",
       "1         1  98 voxels covering 83% of D.G compositus rostr...\n",
       "2         2  95 voxels covering 14% of D.encephalon encephalon\n",
       "3         3            74 voxels covering 45% of D.G proreus L\n",
       "4         4  63 voxels covering 53% of D.G suprasylvius ros..."
      ]
     },
     "execution_count": 2,
     "metadata": {},
     "output_type": "execute_result"
    }
   ],
   "source": [
    "A = pd.read_csv('D:/Dori/fMRI data/rs_fmri/template/labels/D.txt', sep=\"\\t\", header=None)\n",
    "A.loc[-1] = ['clear label']  # adding a row\n",
    "A.index = A.index + 1  # shifting index\n",
    "A = A.sort_index()\n",
    "A.reset_index(drop=False, inplace=True)\n",
    "A.columns=['Label Id', 'Label Name']\n",
    "A.head()"
   ]
  },
  {
   "cell_type": "code",
   "execution_count": 3,
   "metadata": {},
   "outputs": [
    {
     "data": {
      "text/html": [
       "<div>\n",
       "<style scoped>\n",
       "    .dataframe tbody tr th:only-of-type {\n",
       "        vertical-align: middle;\n",
       "    }\n",
       "\n",
       "    .dataframe tbody tr th {\n",
       "        vertical-align: top;\n",
       "    }\n",
       "\n",
       "    .dataframe thead th {\n",
       "        text-align: right;\n",
       "    }\n",
       "</style>\n",
       "<table border=\"1\" class=\"dataframe\">\n",
       "  <thead>\n",
       "    <tr style=\"text-align: right;\">\n",
       "      <th></th>\n",
       "      <th>Label Id</th>\n",
       "      <th>Label Name</th>\n",
       "      <th>Number Of Voxels</th>\n",
       "      <th>Volume (mm^3)</th>\n",
       "      <th>Image mean (D)</th>\n",
       "      <th>Image stdev (D)</th>\n",
       "      <th>ROI_vox_size</th>\n",
       "    </tr>\n",
       "  </thead>\n",
       "  <tbody>\n",
       "    <tr>\n",
       "      <th>0</th>\n",
       "      <td>0</td>\n",
       "      <td>Clear Label</td>\n",
       "      <td>12507381</td>\n",
       "      <td>195428.000</td>\n",
       "      <td>0</td>\n",
       "      <td>0</td>\n",
       "      <td>24428.0</td>\n",
       "    </tr>\n",
       "    <tr>\n",
       "      <th>1</th>\n",
       "      <td>1</td>\n",
       "      <td>Label 1</td>\n",
       "      <td>349908</td>\n",
       "      <td>5467.310</td>\n",
       "      <td>1</td>\n",
       "      <td>0</td>\n",
       "      <td>683.0</td>\n",
       "    </tr>\n",
       "    <tr>\n",
       "      <th>2</th>\n",
       "      <td>2</td>\n",
       "      <td>Label 2</td>\n",
       "      <td>15715</td>\n",
       "      <td>245.547</td>\n",
       "      <td>2</td>\n",
       "      <td>0</td>\n",
       "      <td>31.0</td>\n",
       "    </tr>\n",
       "    <tr>\n",
       "      <th>3</th>\n",
       "      <td>3</td>\n",
       "      <td>Label 3</td>\n",
       "      <td>19563</td>\n",
       "      <td>305.672</td>\n",
       "      <td>3</td>\n",
       "      <td>0</td>\n",
       "      <td>38.0</td>\n",
       "    </tr>\n",
       "    <tr>\n",
       "      <th>4</th>\n",
       "      <td>4</td>\n",
       "      <td>Label 4</td>\n",
       "      <td>81919</td>\n",
       "      <td>1279.980</td>\n",
       "      <td>4</td>\n",
       "      <td>0</td>\n",
       "      <td>160.0</td>\n",
       "    </tr>\n",
       "  </tbody>\n",
       "</table>\n",
       "</div>"
      ],
      "text/plain": [
       "   Label Id   Label Name  Number Of Voxels  Volume (mm^3)  Image mean (D)  \\\n",
       "0         0  Clear Label          12507381     195428.000               0   \n",
       "1         1      Label 1            349908       5467.310               1   \n",
       "2         2      Label 2             15715        245.547               2   \n",
       "3         3      Label 3             19563        305.672               3   \n",
       "4         4      Label 4             81919       1279.980               4   \n",
       "\n",
       "   Image stdev (D)  ROI_vox_size  \n",
       "0                0       24428.0  \n",
       "1                0         683.0  \n",
       "2                0          31.0  \n",
       "3                0          38.0  \n",
       "4                0         160.0  "
      ]
     },
     "execution_count": 3,
     "metadata": {},
     "output_type": "execute_result"
    }
   ],
   "source": [
    "data = pd.read_csv('D:/Dori/fMRI data/rs_fmri/template/labels/D_vol_stats.txt', sep=\"\\t\", header=0)\n",
    "data['ROI_vox_size']=data['Volume (mm^3)']/8\n",
    "data['ROI_vox_size']=data['ROI_vox_size'].round(0)\n",
    "data.head()"
   ]
  },
  {
   "cell_type": "code",
   "execution_count": 4,
   "metadata": {},
   "outputs": [
    {
     "data": {
      "text/html": [
       "<div>\n",
       "<style scoped>\n",
       "    .dataframe tbody tr th:only-of-type {\n",
       "        vertical-align: middle;\n",
       "    }\n",
       "\n",
       "    .dataframe tbody tr th {\n",
       "        vertical-align: top;\n",
       "    }\n",
       "\n",
       "    .dataframe thead th {\n",
       "        text-align: right;\n",
       "    }\n",
       "</style>\n",
       "<table border=\"1\" class=\"dataframe\">\n",
       "  <thead>\n",
       "    <tr style=\"text-align: right;\">\n",
       "      <th></th>\n",
       "      <th>Label Id</th>\n",
       "      <th>Number Of Voxels</th>\n",
       "      <th>Volume (mm^3)</th>\n",
       "      <th>ROI_vox_size</th>\n",
       "      <th>Label Name</th>\n",
       "    </tr>\n",
       "  </thead>\n",
       "  <tbody>\n",
       "  </tbody>\n",
       "</table>\n",
       "</div>"
      ],
      "text/plain": [
       "Empty DataFrame\n",
       "Columns: [Label Id, Number Of Voxels, Volume (mm^3), ROI_vox_size, Label Name]\n",
       "Index: []"
      ]
     },
     "execution_count": 4,
     "metadata": {},
     "output_type": "execute_result"
    }
   ],
   "source": [
    "atlas=data[['Label Id','Number Of Voxels', 'Volume (mm^3)','ROI_vox_size']].merge(A, on='Label Id')\n",
    "atlas=atlas.iloc[2:,:]\n",
    "atlas.reset_index(inplace=True, drop=True)\n",
    "atlas[atlas['Label Name']=='LPVI_1']"
   ]
  },
  {
   "cell_type": "code",
   "execution_count": 5,
   "metadata": {},
   "outputs": [
    {
     "data": {
      "text/plain": [
       "['A_network.txt',\n",
       " 'B_network.txt',\n",
       " 'C_network.txt',\n",
       " 'D_network.txt',\n",
       " 'E_network.txt',\n",
       " 'F_network.txt',\n",
       " 'G_network.txt',\n",
       " 'H_network.txt',\n",
       " 'I_network.txt',\n",
       " 'J_network.txt',\n",
       " 'K_network.txt',\n",
       " 'L_network.txt',\n",
       " 'M_network.txt']"
      ]
     },
     "execution_count": 5,
     "metadata": {},
     "output_type": "execute_result"
    }
   ],
   "source": [
    "os.chdir(\"C:/Users/dooora/Desktop/jupyter/mr/rs_rois/\")\n",
    "from os import walk\n",
    "\n",
    "f = []\n",
    "for (dirpath, dirnames, filenames) in walk(\"C:/Users/dooora/Desktop/jupyter/mr/rs_rois\"):\n",
    "    f.extend(filenames)\n",
    "    break\n",
    "    \n",
    "f"
   ]
  },
  {
   "cell_type": "code",
   "execution_count": 9,
   "metadata": {},
   "outputs": [],
   "source": [
    "df=pd.DataFrame(columns=['network','voxels','percentage','ROI'])"
   ]
  },
  {
   "cell_type": "code",
   "execution_count": 15,
   "metadata": {},
   "outputs": [
    {
     "ename": "ValueError",
     "evalue": "I/O operation on closed file.",
     "output_type": "error",
     "traceback": [
      "\u001b[1;31m---------------------------------------------------------------------------\u001b[0m",
      "\u001b[1;31mValueError\u001b[0m                                Traceback (most recent call last)",
      "\u001b[1;32m<ipython-input-15-fa690a2394d8>\u001b[0m in \u001b[0;36m<module>\u001b[1;34m\u001b[0m\n\u001b[1;32m----> 1\u001b[1;33m \u001b[1;32mfor\u001b[0m \u001b[0mi\u001b[0m \u001b[1;32min\u001b[0m \u001b[0mf\u001b[0m\u001b[1;33m:\u001b[0m\u001b[1;33m\u001b[0m\u001b[1;33m\u001b[0m\u001b[0m\n\u001b[0m\u001b[0;32m      2\u001b[0m     \u001b[1;32mwith\u001b[0m \u001b[0mopen\u001b[0m\u001b[1;33m(\u001b[0m\u001b[0mi\u001b[0m\u001b[1;33m,\u001b[0m\u001b[1;34m'r'\u001b[0m\u001b[1;33m)\u001b[0m \u001b[1;32mas\u001b[0m \u001b[0mf\u001b[0m\u001b[1;33m:\u001b[0m\u001b[1;33m\u001b[0m\u001b[1;33m\u001b[0m\u001b[0m\n\u001b[0;32m      3\u001b[0m         \u001b[0mraw_corrupt\u001b[0m \u001b[1;33m=\u001b[0m \u001b[0mf\u001b[0m\u001b[1;33m.\u001b[0m\u001b[0mread\u001b[0m\u001b[1;33m(\u001b[0m\u001b[1;33m)\u001b[0m\u001b[1;33m\u001b[0m\u001b[1;33m\u001b[0m\u001b[0m\n\u001b[0;32m      4\u001b[0m         \u001b[0mcorrupt_split\u001b[0m\u001b[1;33m=\u001b[0m\u001b[0mre\u001b[0m\u001b[1;33m.\u001b[0m\u001b[0msplit\u001b[0m\u001b[1;33m(\u001b[0m\u001b[1;34m'\\n| of|covering'\u001b[0m\u001b[1;33m,\u001b[0m\u001b[0mraw_corrupt\u001b[0m\u001b[1;33m)\u001b[0m\u001b[1;33m\u001b[0m\u001b[1;33m\u001b[0m\u001b[0m\n\u001b[0;32m      5\u001b[0m         \u001b[0mvox_count\u001b[0m\u001b[1;33m=\u001b[0m\u001b[0mcorrupt_split\u001b[0m\u001b[1;33m[\u001b[0m\u001b[1;36m0\u001b[0m\u001b[1;33m:\u001b[0m\u001b[1;33m:\u001b[0m\u001b[1;36m3\u001b[0m\u001b[1;33m]\u001b[0m\u001b[1;33m\u001b[0m\u001b[1;33m\u001b[0m\u001b[0m\n",
      "\u001b[1;31mValueError\u001b[0m: I/O operation on closed file."
     ]
    }
   ],
   "source": [
    "for i in f:\n",
    "    with open(i,'r') as f:\n",
    "        raw_corrupt = f.read()\n",
    "        corrupt_split=re.split('\\n| of|covering',raw_corrupt)\n",
    "        vox_count=corrupt_split[0::3]\n",
    "        pct=corrupt_split[1::3]\n",
    "        roi=corrupt_split[2::3]\n",
    "        del vox_count[-1]\n",
    "        df1 = pd.DataFrame({'network':i,'voxels':vox_count, 'percentage':pct, 'ROI':roi})\n",
    "        df=pd.concat([df,df1])\n",
    "        \n",
    "df['vox_no']=df.voxels.str[:-8]\n",
    "df['network']=df.network.str[0]\n",
    "df['percentage']=df.percentage.str[:-1]\n",
    "df['percentage']=df['percentage'].astype('int')\n",
    "df['percentage']=df['percentage']/100\n",
    "df['vox_no']=df['vox_no'].astype('int')\n",
    "df[\"ROI_str\"]=df[\"ROI\"].str[3:]\n",
    "#filtering out useless ROIs\n",
    "df = df[df.ROI != ' A.encephalon encephalon']\n",
    "df = df[df.ROI != ' A.not-labeled']\n",
    "df = df[df.ROI != ' A.nervus opticus']"
   ]
  },
  {
   "cell_type": "markdown",
   "metadata": {},
   "source": [
    "df[df['network']=='A']"
   ]
  },
  {
   "cell_type": "code",
   "execution_count": null,
   "metadata": {},
   "outputs": [],
   "source": [
    "#now retaining small_blobs as well\n",
    "#df2=df[df.small_blob != 1].copy()\n",
    "df2=df.merge(atlas, left_on='ROI_str', right_on='Label Name')\n",
    "\n",
    "df4=df2[['network','vox_no']].groupby('network').agg(['count','sum'])\n",
    "df4.reset_index(drop=False, inplace=True)\n",
    "df4.columns=['network','count','sum']\n",
    "networksize=pd.Series(df4['sum'].values,index=df4['network']).to_dict()\n",
    "\n",
    "df2['total_netw_size'] = df2['network'].map(networksize)\n",
    "df2['ROI_contr_to_netw']=df2['ROI_vox_size']/df2['total_netw_size']\n",
    "df2['blob_contr_to_netw']=df2['vox_no']/df2['total_netw_size']\n",
    "df2['percentage_corr']=df2['vox_no']/df2['ROI_vox_size']\n",
    "df2['ROI_stem'] = df2['ROI_str'].str[:-1]\n",
    "df2.head()"
   ]
  },
  {
   "cell_type": "code",
   "execution_count": null,
   "metadata": {},
   "outputs": [],
   "source": [
    "def small_insign(x,y):\n",
    "    if x<10 and y<0.1:\n",
    "        return 1\n",
    "    else:\n",
    "        return 0\n",
    "\n",
    "df2['small_blob']=np.vectorize(small_insign)(df2['vox_no'],df2['percentage_corr'])"
   ]
  },
  {
   "cell_type": "code",
   "execution_count": null,
   "metadata": {},
   "outputs": [],
   "source": [
    "cleaned_df=df2[['network', 'vox_no', 'ROI_str', 'small_blob', 'Label Id', 'Number Of Voxels', 'Volume (mm^3)',\n",
    "       'ROI_vox_size', 'total_netw_size', 'ROI_contr_to_netw',\n",
    "       'blob_contr_to_netw', 'percentage_corr', 'ROI_stem']].copy()"
   ]
  },
  {
   "cell_type": "code",
   "execution_count": null,
   "metadata": {},
   "outputs": [],
   "source": [
    "cols2=['ROI_str', 'vox_no','ROI_vox_size',\n",
    "       'percentage_corr','blob_contr_to_netw','ROI_contr_to_netw','network','total_netw_size', 'Number Of Voxels',\n",
    " 'Volume (mm^3)','small_blob','Label Id', 'ROI_stem',\n",
    " ]\n",
    "cleaned_df= cleaned_df[cols2]\n",
    "cleaned_df.columns=['ROI_name', 'blob_vx_within_ROI','total_ROI_vx_size',\n",
    "       'cover_percentage','blob_contribution_to_network','ROI_contribution_to_network','network_from_SciRep','total_network_vx_size', 'orig_small_total_vx_in_network',\n",
    " 'total_ROI_vol_mm3','small_blob_flag','Label_Id','ROI_stem']\n",
    "cleaned_df.head()"
   ]
  },
  {
   "cell_type": "code",
   "execution_count": null,
   "metadata": {},
   "outputs": [],
   "source": [
    "cleaned_df[cleaned_df['ROI_name']=='LPVI_1']"
   ]
  },
  {
   "cell_type": "code",
   "execution_count": null,
   "metadata": {},
   "outputs": [],
   "source": []
  },
  {
   "cell_type": "code",
   "execution_count": null,
   "metadata": {},
   "outputs": [],
   "source": [
    "from collections import Counter\n",
    "#checking bilaterality\n",
    "bilat_df=cleaned_df[cleaned_df['small_blob_flag']!=1].copy()\n",
    "end_list=pd.DataFrame()\n",
    "networks=bilat_df['network_from_SciRep'].unique()\n",
    "for i in networks:\n",
    "    bilat_list=[]\n",
    "    df=bilat_df[bilat_df['network_from_SciRep']==i]\n",
    "    ROIS=df.ROI_stem.to_list()\n",
    "    cnt = Counter()\n",
    "    for k in ROIS:\n",
    "        cnt[k] += 1\n",
    "        \n",
    "    for l in cnt.keys():    \n",
    "        a=cnt.get(l)\n",
    "        if a>1:\n",
    "            bilat_list.append(l)\n",
    "        else:\n",
    "            pass\n",
    "    df['bilat']=df.ROI_stem.apply(lambda x: 1 if x in bilat_list else 0)\n",
    "    end_list=pd.concat([end_list,df])\n",
    "end_list.tail()"
   ]
  },
  {
   "cell_type": "code",
   "execution_count": null,
   "metadata": {},
   "outputs": [],
   "source": [
    "#cnt.get('G diagonalis ')\n",
    "cnt.keys()"
   ]
  },
  {
   "cell_type": "code",
   "execution_count": null,
   "metadata": {},
   "outputs": [],
   "source": [
    "df4.columns=['network','no_of_ROIs_in_network', 'total_vx_size_of_network']"
   ]
  },
  {
   "cell_type": "code",
   "execution_count": null,
   "metadata": {},
   "outputs": [],
   "source": [
    "end_list=end_list.sort_values(by=['blob_vx_within_ROI'], ascending=False)\n",
    "exclusive=end_list.drop_duplicates(subset='ROI_name', keep='first')\n",
    "exclusive.head()"
   ]
  },
  {
   "cell_type": "code",
   "execution_count": null,
   "metadata": {},
   "outputs": [],
   "source": [
    "list_dfs= [cleaned_df,df4,end_list,exclusive]\n",
    "from pandas import ExcelWriter\n",
    "def save_xls(list_dfs, xls_path):\n",
    "    with ExcelWriter(xls_path) as writer:\n",
    "        for n, df in enumerate(list_dfs):\n",
    "            df.to_excel(writer,'sheet%s' % n)\n",
    "        writer.save()\n",
    "        \n",
    "save_xls(list_dfs, \"C:/Users/dooora/Desktop/jupyter/mr/dog_networkROI.xlsx\")        "
   ]
  },
  {
   "cell_type": "code",
   "execution_count": null,
   "metadata": {},
   "outputs": [],
   "source": [
    "df2['blob_contr_to_netw'].hist()"
   ]
  },
  {
   "cell_type": "markdown",
   "metadata": {},
   "source": [
    "one_hot=pd.get_dummies(df2['ROI'])\n",
    "df3=pd.concat([df2,one_hot], axis=1, sort=False)\n",
    "one_hot.head()"
   ]
  },
  {
   "cell_type": "code",
   "execution_count": null,
   "metadata": {},
   "outputs": [],
   "source": [
    "# Customize matplotlib\n",
    "plt.rcParams.update(\n",
    "    {\n",
    "        'text.usetex': False,\n",
    "        'font.family': 'stixgeneral',\n",
    "        'mathtext.fontset': 'stix',\n",
    "    }\n",
    ")\n",
    "plt.scatter(df4['count'], df4['sum'])\n",
    "plt.xlabel('count')\n",
    "plt.ylabel('sum')"
   ]
  },
  {
   "cell_type": "code",
   "execution_count": null,
   "metadata": {},
   "outputs": [],
   "source": [
    "df.ROI.value_counts()"
   ]
  },
  {
   "cell_type": "markdown",
   "metadata": {},
   "source": [
    "#this is network level info\n",
    "df5=df.drop_duplicates(subset='ROI', keep='first').copy()\n",
    "df5['ROI_size']=1/df5['percentage']*df5['vox_no']\n",
    "df5['ROI_size']=df5['ROI_size'].round(0)\n",
    "df5['total_netw_size'] = df5['network'].map(networksize)\n",
    "df5['ROI_contr_to_netw']=df5['ROI_size']/df5['total_netw_size']\n",
    "df5['blob_contr_to_netw']=df5['vox_no']/df5['total_netw_size']\n",
    "df5.sort_values(by=['blob_contr_to_netw'], inplace=True, ascending=False)\n",
    "df5.head(10)"
   ]
  },
  {
   "cell_type": "code",
   "execution_count": null,
   "metadata": {},
   "outputs": [],
   "source": [
    "df5[df5['ROI'] == ' A.G splenialis L']"
   ]
  },
  {
   "cell_type": "code",
   "execution_count": null,
   "metadata": {},
   "outputs": [],
   "source": [
    "df['ROI'][0]"
   ]
  },
  {
   "cell_type": "code",
   "execution_count": null,
   "metadata": {},
   "outputs": [],
   "source": [
    "#to do drop rows with pőercentage below 10%\n",
    "#if smaller than 5 voxel than do this, above that it may not be a good idea"
   ]
  },
  {
   "cell_type": "code",
   "execution_count": null,
   "metadata": {},
   "outputs": [],
   "source": [
    "df5['percentage'].describe()"
   ]
  },
  {
   "cell_type": "code",
   "execution_count": null,
   "metadata": {},
   "outputs": [],
   "source": [
    "df['percentage']"
   ]
  },
  {
   "cell_type": "code",
   "execution_count": null,
   "metadata": {},
   "outputs": [],
   "source": [
    "plt.hist(df['vox_no'], bins=(0,1,2,3,4,5,6,7,8,10,20,50,100))"
   ]
  }
 ],
 "metadata": {
  "kernelspec": {
   "display_name": "Python 3",
   "language": "python",
   "name": "python3"
  },
  "language_info": {
   "codemirror_mode": {
    "name": "ipython",
    "version": 3
   },
   "file_extension": ".py",
   "mimetype": "text/x-python",
   "name": "python",
   "nbconvert_exporter": "python",
   "pygments_lexer": "ipython3",
   "version": "3.7.6"
  }
 },
 "nbformat": 4,
 "nbformat_minor": 4
}
